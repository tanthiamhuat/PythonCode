{
 "cells": [
  {
   "cell_type": "markdown",
   "metadata": {},
   "source": [
    "## The example below takes from the book titled \"Apache Spark 2 for Beginners\", written by Rajanarayanan Thottuvaikkatumana\n",
    "## https://github.com/PacktPublishing/Apache-Spark-2-for-Beginners"
   ]
  },
  {
   "cell_type": "code",
   "execution_count": 1,
   "metadata": {},
   "outputs": [
    {
     "data": {
      "text/html": [
       "\n",
       "            <div>\n",
       "                <p><b>SparkSession - hive</b></p>\n",
       "                \n",
       "        <div>\n",
       "            <p><b>SparkContext</b></p>\n",
       "\n",
       "            <p><a href=\"http://ip-172-31-29-106.ap-southeast-1.compute.internal:4040\">Spark UI</a></p>\n",
       "\n",
       "            <dl>\n",
       "              <dt>Version</dt>\n",
       "                <dd><code>v2.3.2</code></dd>\n",
       "              <dt>Master</dt>\n",
       "                <dd><code>local[*]</code></dd>\n",
       "              <dt>AppName</dt>\n",
       "                <dd><code>PySparkShell</code></dd>\n",
       "            </dl>\n",
       "        </div>\n",
       "        \n",
       "            </div>\n",
       "        "
      ],
      "text/plain": [
       "<pyspark.sql.session.SparkSession at 0x7fa1c01495f8>"
      ]
     },
     "execution_count": 1,
     "metadata": {},
     "output_type": "execute_result"
    }
   ],
   "source": [
    "spark"
   ]
  },
  {
   "cell_type": "markdown",
   "metadata": {},
   "source": [
    "### Spark UI at http://52.74.103.158:4040/jobs/\n",
    "### File is stored at /opt/spark-2.3.2 directory"
   ]
  },
  {
   "cell_type": "markdown",
   "metadata": {},
   "source": [
    "### Chapter 2: The basics of programming with Spark"
   ]
  },
  {
   "cell_type": "code",
   "execution_count": 2,
   "metadata": {},
   "outputs": [],
   "source": [
    "from decimal import Decimal"
   ]
  },
  {
   "cell_type": "code",
   "execution_count": 3,
   "metadata": {},
   "outputs": [],
   "source": [
    "acTransList = [\"SB10001,1000\", \"SB10002,1200\",\n",
    "\"SB10003,8000\", \"SB10004,400\", \"SB10005,300\",\n",
    "\"SB10006,10000\", \"SB10007,500\", \"SB10008,56\",\n",
    "\"SB10009,30\",\"SB10010,7000\", \"CR10001,7000\",\n",
    "\"SB10002,-10\"]"
   ]
  },
  {
   "cell_type": "code",
   "execution_count": 4,
   "metadata": {},
   "outputs": [],
   "source": [
    "acTransRDD = sc.parallelize(acTransList)"
   ]
  },
  {
   "cell_type": "code",
   "execution_count": 5,
   "metadata": {},
   "outputs": [],
   "source": [
    "goodTransRecords = acTransRDD.filter(lambda trans:Decimal(trans.split(\",\")[1]) > 0).filter(lambda trans:\n",
    "                   (trans.split(\",\")[0]).startswith('SB') == True)"
   ]
  },
  {
   "cell_type": "code",
   "execution_count": 6,
   "metadata": {},
   "outputs": [],
   "source": [
    "highValueTransRecords = goodTransRecords.filter(lambda trans:Decimal(trans.split(\",\")[1]) > 1000)"
   ]
  },
  {
   "cell_type": "code",
   "execution_count": 7,
   "metadata": {},
   "outputs": [],
   "source": [
    "badAmountLambda = lambda trans:Decimal(trans.split(\",\")[1]) <= 0"
   ]
  },
  {
   "cell_type": "code",
   "execution_count": 8,
   "metadata": {},
   "outputs": [],
   "source": [
    "badAcNoLambda = lambda trans: (trans.split(\",\")[0]).startswith('SB') == False"
   ]
  },
  {
   "cell_type": "code",
   "execution_count": 9,
   "metadata": {},
   "outputs": [],
   "source": [
    "badAmountRecords = acTransRDD.filter(badAmountLambda)"
   ]
  },
  {
   "cell_type": "code",
   "execution_count": 10,
   "metadata": {},
   "outputs": [],
   "source": [
    "badAccountRecords = acTransRDD.filter(badAcNoLambda)"
   ]
  },
  {
   "cell_type": "code",
   "execution_count": 11,
   "metadata": {},
   "outputs": [],
   "source": [
    "badTransRecords = badAmountRecords.union(badAccountRecords)"
   ]
  },
  {
   "cell_type": "code",
   "execution_count": 12,
   "metadata": {},
   "outputs": [
    {
     "data": {
      "text/plain": [
       "['SB10001,1000',\n",
       " 'SB10002,1200',\n",
       " 'SB10003,8000',\n",
       " 'SB10004,400',\n",
       " 'SB10005,300',\n",
       " 'SB10006,10000',\n",
       " 'SB10007,500',\n",
       " 'SB10008,56',\n",
       " 'SB10009,30',\n",
       " 'SB10010,7000',\n",
       " 'CR10001,7000',\n",
       " 'SB10002,-10']"
      ]
     },
     "execution_count": 12,
     "metadata": {},
     "output_type": "execute_result"
    }
   ],
   "source": [
    "acTransRDD.collect()"
   ]
  },
  {
   "cell_type": "code",
   "execution_count": 13,
   "metadata": {},
   "outputs": [
    {
     "data": {
      "text/plain": [
       "['SB10001,1000',\n",
       " 'SB10002,1200',\n",
       " 'SB10003,8000',\n",
       " 'SB10004,400',\n",
       " 'SB10005,300',\n",
       " 'SB10006,10000',\n",
       " 'SB10007,500',\n",
       " 'SB10008,56',\n",
       " 'SB10009,30',\n",
       " 'SB10010,7000']"
      ]
     },
     "execution_count": 13,
     "metadata": {},
     "output_type": "execute_result"
    }
   ],
   "source": [
    "goodTransRecords.collect()"
   ]
  },
  {
   "cell_type": "code",
   "execution_count": 14,
   "metadata": {},
   "outputs": [
    {
     "data": {
      "text/plain": [
       "['SB10002,1200', 'SB10003,8000', 'SB10006,10000', 'SB10010,7000']"
      ]
     },
     "execution_count": 14,
     "metadata": {},
     "output_type": "execute_result"
    }
   ],
   "source": [
    "highValueTransRecords.collect()"
   ]
  },
  {
   "cell_type": "code",
   "execution_count": 15,
   "metadata": {},
   "outputs": [
    {
     "data": {
      "text/plain": [
       "['CR10001,7000']"
      ]
     },
     "execution_count": 15,
     "metadata": {},
     "output_type": "execute_result"
    }
   ],
   "source": [
    "badAccountRecords.collect()"
   ]
  },
  {
   "cell_type": "code",
   "execution_count": 16,
   "metadata": {},
   "outputs": [
    {
     "data": {
      "text/plain": [
       "Decimal('28486')"
      ]
     },
     "execution_count": 16,
     "metadata": {},
     "output_type": "execute_result"
    }
   ],
   "source": [
    "sumAmounts = goodTransRecords.map(lambda trans:Decimal(trans.split(\",\")[1])).reduce(lambda a,b : a+b)\n",
    "sumAmounts"
   ]
  },
  {
   "cell_type": "code",
   "execution_count": 17,
   "metadata": {},
   "outputs": [
    {
     "data": {
      "text/plain": [
       "Decimal('10000')"
      ]
     },
     "execution_count": 17,
     "metadata": {},
     "output_type": "execute_result"
    }
   ],
   "source": [
    "maxAmount = goodTransRecords.map(lambda trans:Decimal(trans.split(\",\")[1])).reduce(lambda a,b : a if a > b else b)\n",
    "maxAmount"
   ]
  },
  {
   "cell_type": "code",
   "execution_count": 18,
   "metadata": {},
   "outputs": [
    {
     "data": {
      "text/plain": [
       "Decimal('30')"
      ]
     },
     "execution_count": 18,
     "metadata": {},
     "output_type": "execute_result"
    }
   ],
   "source": [
    "minAmount = goodTransRecords.map(lambda trans:Decimal(trans.split(\",\")[1])).reduce(lambda a,b : a if a < b else b)\n",
    "minAmount"
   ]
  },
  {
   "cell_type": "code",
   "execution_count": 19,
   "metadata": {},
   "outputs": [
    {
     "data": {
      "text/plain": [
       "['SB10001',\n",
       " '1000',\n",
       " 'SB10002',\n",
       " '1200',\n",
       " 'SB10003',\n",
       " '8000',\n",
       " 'SB10004',\n",
       " '400',\n",
       " 'SB10005',\n",
       " '300',\n",
       " 'SB10006',\n",
       " '10000',\n",
       " 'SB10007',\n",
       " '500',\n",
       " 'SB10008',\n",
       " '56',\n",
       " 'SB10009',\n",
       " '30',\n",
       " 'SB10010',\n",
       " '7000',\n",
       " 'CR10001',\n",
       " '7000',\n",
       " 'SB10002',\n",
       " '-10']"
      ]
     },
     "execution_count": 19,
     "metadata": {},
     "output_type": "execute_result"
    }
   ],
   "source": [
    "combineAllElements = acTransRDD.flatMap(lambda trans: trans.split(\",\"))\n",
    "combineAllElements.collect()"
   ]
  },
  {
   "cell_type": "code",
   "execution_count": 20,
   "metadata": {},
   "outputs": [
    {
     "data": {
      "text/plain": [
       "['SB10001',\n",
       " 'SB10003',\n",
       " 'SB10004',\n",
       " 'SB10006',\n",
       " 'SB10008',\n",
       " 'SB10009',\n",
       " 'SB10010',\n",
       " 'SB10002',\n",
       " 'SB10005',\n",
       " 'SB10007']"
      ]
     },
     "execution_count": 20,
     "metadata": {},
     "output_type": "execute_result"
    }
   ],
   "source": [
    "allGoodAccountNos = combineAllElements.filter(lambda trans:trans.startswith('SB') == True)\n",
    "allGoodAccountNos.distinct().collect()"
   ]
  },
  {
   "cell_type": "markdown",
   "metadata": {},
   "source": [
    "### Chapter 2: MapReduce"
   ]
  },
  {
   "cell_type": "code",
   "execution_count": 21,
   "metadata": {},
   "outputs": [
    {
     "data": {
      "text/plain": [
       "[('SB10001', Decimal('18900')),\n",
       " ('SB10002', Decimal('8590')),\n",
       " ('SB10003', Decimal('330')),\n",
       " ('SB10004', Decimal('500')),\n",
       " ('SB10005', Decimal('56'))]"
      ]
     },
     "execution_count": 21,
     "metadata": {},
     "output_type": "execute_result"
    }
   ],
   "source": [
    "acTransList = [\"SB10001,1000\", \"SB10002,1200\",\"SB10001,8000\", \"SB10002,400\", \"SB10003,300\",\n",
    "\"SB10001,10000\", \"SB10004,500\", \"SB10005,56\",\"SB10003,30\",\"SB10002,7000\", \"SB10001,-100\",\"SB10002,-10\"]\n",
    "acTransRDD = sc.parallelize(acTransList)\n",
    "acKeyVal = acTransRDD.map(lambda trans:(trans.split(\",\")[0],Decimal(trans.split(\",\")[1])))\n",
    "accSummary = acKeyVal.reduceByKey(lambda a,b : a+b).sortByKey()\n",
    "accSummary.collect()"
   ]
  },
  {
   "cell_type": "markdown",
   "metadata": {},
   "source": [
    "### Chapter 2: Joins"
   ]
  },
  {
   "cell_type": "code",
   "execution_count": 22,
   "metadata": {},
   "outputs": [
    {
     "data": {
      "text/plain": [
       "[('SB10001', 'Roger Federer', '50000'),\n",
       " ('SB10002', 'Pete Sampras', '12000'),\n",
       " ('SB10003', 'Rafael Nadal', '3000'),\n",
       " ('SB10004', 'Boris Becker', '8500'),\n",
       " ('SB10005', 'Ivan Lendl', '5000')]"
      ]
     },
     "execution_count": 22,
     "metadata": {},
     "output_type": "execute_result"
    }
   ],
   "source": [
    "acMasterList = [\"SB10001,Roger,Federer\",\"SB10002,Pete,Sampras\", \"SB10003,Rafael,Nadal\",\"SB10004,Boris,Becker\", \"SB10005,Ivan,Lendl\"]\n",
    "acBalList = [\"SB10001,50000\", \"SB10002,12000\",\"SB10003,3000\", \"SB10004,8500\", \"SB10005,5000\"]\n",
    "acMasterRDD = sc.parallelize(acMasterList)\n",
    "acBalRDD = sc.parallelize(acBalList)\n",
    "acMasterTuples = acMasterRDD.map(lambda master:master.split(\",\")).map(lambda masterList:\n",
    "                            (masterList[0], masterList[1] + \" \" + masterList[2]))\n",
    "acBalTuples = acBalRDD.map(lambda trans:trans.split(\",\")).map(lambda transList: (transList[0],transList[1]))\n",
    "acJoinTuples = acMasterTuples.join(acBalTuples).sortByKey().map(lambda tran: (tran[0], tran[1][0],tran[1][1]))\n",
    "acJoinTuples.collect()"
   ]
  },
  {
   "cell_type": "markdown",
   "metadata": {},
   "source": [
    "### Chapter 2: More Actions"
   ]
  },
  {
   "cell_type": "code",
   "execution_count": 23,
   "metadata": {},
   "outputs": [
    {
     "data": {
      "text/plain": [
       "(Decimal('50000'), 'SB10001')"
      ]
     },
     "execution_count": 23,
     "metadata": {},
     "output_type": "execute_result"
    }
   ],
   "source": [
    "acNameAndBalance = acJoinTuples.map(lambda tran:(tran[1],tran[2]))\n",
    "acTuplesByAmount = acBalTuples.map(lambda tran:(Decimal(tran[1]), tran[0])).sortByKey(False)\n",
    "acTuplesByAmount.first()"
   ]
  },
  {
   "cell_type": "code",
   "execution_count": 24,
   "metadata": {},
   "outputs": [
    {
     "data": {
      "text/plain": [
       "[(Decimal('50000'), 'SB10001'),\n",
       " (Decimal('12000'), 'SB10002'),\n",
       " (Decimal('8500'), 'SB10004')]"
      ]
     },
     "execution_count": 24,
     "metadata": {},
     "output_type": "execute_result"
    }
   ],
   "source": [
    "acTuplesByAmount.take(3)"
   ]
  },
  {
   "cell_type": "code",
   "execution_count": 25,
   "metadata": {},
   "outputs": [
    {
     "data": {
      "text/plain": [
       "defaultdict(int,\n",
       "            {'SB10001': 1,\n",
       "             'SB10002': 1,\n",
       "             'SB10003': 1,\n",
       "             'SB10004': 1,\n",
       "             'SB10005': 1})"
      ]
     },
     "execution_count": 25,
     "metadata": {},
     "output_type": "execute_result"
    }
   ],
   "source": [
    "acBalTuples.countByKey()"
   ]
  },
  {
   "cell_type": "code",
   "execution_count": 26,
   "metadata": {},
   "outputs": [
    {
     "data": {
      "text/plain": [
       "5"
      ]
     },
     "execution_count": 26,
     "metadata": {},
     "output_type": "execute_result"
    }
   ],
   "source": [
    "acBalTuples.count()"
   ]
  },
  {
   "cell_type": "code",
   "execution_count": 27,
   "metadata": {},
   "outputs": [
    {
     "data": {
      "text/plain": [
       "('Ivan Lendl', '5000')"
      ]
     },
     "execution_count": 27,
     "metadata": {},
     "output_type": "execute_result"
    }
   ],
   "source": [
    "acNameAndBalance.foreach(print)\n",
    "('Pete Sampras', '12000')\n",
    "('Roger Federer', '50000')\n",
    "('Rafael Nadal', '3000')\n",
    "('Boris Becker', '8500')\n",
    "('Ivan Lendl', '5000')"
   ]
  },
  {
   "cell_type": "code",
   "execution_count": 28,
   "metadata": {},
   "outputs": [
    {
     "data": {
      "text/plain": [
       "0.0"
      ]
     },
     "execution_count": 28,
     "metadata": {},
     "output_type": "execute_result"
    }
   ],
   "source": [
    "balanceTotal = sc.accumulator(0.0)\n",
    "balanceTotal.value"
   ]
  },
  {
   "cell_type": "code",
   "execution_count": 29,
   "metadata": {},
   "outputs": [
    {
     "data": {
      "text/plain": [
       "78500.0"
      ]
     },
     "execution_count": 29,
     "metadata": {},
     "output_type": "execute_result"
    }
   ],
   "source": [
    "acBalTuples.foreach(lambda bals:balanceTotal.add(float(bals[1])))\n",
    "balanceTotal.value"
   ]
  },
  {
   "cell_type": "markdown",
   "metadata": {},
   "source": [
    "### Chapter 3: Spark SQL"
   ]
  },
  {
   "cell_type": "code",
   "execution_count": 30,
   "metadata": {},
   "outputs": [
    {
     "name": "stdout",
     "output_type": "stream",
     "text": [
      "root\n",
      " |-- accNo: string (nullable = true)\n",
      " |-- tranAmount: double (nullable = true)\n",
      "\n",
      "+-------+----------+\n",
      "|  accNo|tranAmount|\n",
      "+-------+----------+\n",
      "|SB10001|    1000.0|\n",
      "|SB10002|    1200.0|\n",
      "|SB10003|    8000.0|\n",
      "|SB10004|     400.0|\n",
      "|SB10005|     300.0|\n",
      "|SB10006|   10000.0|\n",
      "|SB10007|     500.0|\n",
      "|SB10008|      56.0|\n",
      "|SB10009|      30.0|\n",
      "|SB10010|    7000.0|\n",
      "|CR10001|    7000.0|\n",
      "|SB10002|     -10.0|\n",
      "+-------+----------+\n",
      "\n"
     ]
    }
   ],
   "source": [
    "from pyspark.sql import Row\n",
    "# Creation of the list from where the RDD is going to be created\n",
    "acTransList = [\"SB10001,1000\", \"SB10002,1200\",\"SB10003,8000\", \"SB10004,400\", \"SB10005,300\",\n",
    "               \"SB10006,10000\", \"SB10007,500\", \"SB10008,56\",\"SB10009,30\",\"SB10010,7000\", \"CR10001,7000\",\"SB10002,-10\"]\n",
    "# Create the DataFrame\n",
    "acTransDF = sc.parallelize(acTransList).map(lambda trans: trans.split(\",\")).map(lambda p: Row(accNo=p[0],tranAmount=float(p[1]))).toDF()\n",
    "# Register temporary view in the DataFrame for using it in SQL\n",
    "acTransDF.createOrReplaceTempView(\"trans\")\n",
    "# Print the structure of the DataFrame\n",
    "acTransDF.printSchema()\n",
    "# Show the first few records of the DataFrame\n",
    "acTransDF.show()"
   ]
  },
  {
   "cell_type": "code",
   "execution_count": 31,
   "metadata": {},
   "outputs": [
    {
     "name": "stdout",
     "output_type": "stream",
     "text": [
      "+-------+----------+\n",
      "|  accNo|tranAmount|\n",
      "+-------+----------+\n",
      "|SB10001|    1000.0|\n",
      "|SB10002|    1200.0|\n",
      "|SB10003|    8000.0|\n",
      "|SB10004|     400.0|\n",
      "|SB10005|     300.0|\n",
      "|SB10006|   10000.0|\n",
      "|SB10007|     500.0|\n",
      "|SB10008|      56.0|\n",
      "|SB10009|      30.0|\n",
      "|SB10010|    7000.0|\n",
      "+-------+----------+\n",
      "\n"
     ]
    }
   ],
   "source": [
    "# Use SQL to create another DataFrame containing the good transaction records\n",
    "goodTransRecords = spark.sql(\"SELECT accNo, tranAmount FROM trans WHERE accNo like 'SB%' AND tranAmount > 0\")\n",
    "# Register temporary table in the DataFrame for using it in SQL\n",
    "goodTransRecords.createOrReplaceTempView(\"goodtrans\")\n",
    "# Show the first few records of the DataFrame\n",
    "goodTransRecords.show()"
   ]
  },
  {
   "cell_type": "code",
   "execution_count": 32,
   "metadata": {},
   "outputs": [
    {
     "name": "stdout",
     "output_type": "stream",
     "text": [
      "+-------+----------+\n",
      "|  accNo|tranAmount|\n",
      "+-------+----------+\n",
      "|SB10002|    1200.0|\n",
      "|SB10003|    8000.0|\n",
      "|SB10006|   10000.0|\n",
      "|SB10010|    7000.0|\n",
      "+-------+----------+\n",
      "\n"
     ]
    }
   ],
   "source": [
    "# Use SQL to create another DataFrame containing the high value transaction records\n",
    "highValueTransRecords = spark.sql(\"SELECT accNo, tranAmount FROM goodtrans WHERE tranAmount > 1000\")\n",
    "# Show the first few records of the DataFrame\n",
    "highValueTransRecords.show()"
   ]
  },
  {
   "cell_type": "code",
   "execution_count": 33,
   "metadata": {},
   "outputs": [
    {
     "name": "stdout",
     "output_type": "stream",
     "text": [
      "+-------+----------+\n",
      "|  accNo|tranAmount|\n",
      "+-------+----------+\n",
      "|CR10001|    7000.0|\n",
      "+-------+----------+\n",
      "\n"
     ]
    }
   ],
   "source": [
    "# Use SQL to create another DataFrame containing the bad account records\n",
    "badAccountRecords = spark.sql(\"SELECT accNo, tranAmount FROM trans WHERE accNo NOT like 'SB%'\")\n",
    "# Show the first few records of the DataFrame\n",
    "badAccountRecords.show()"
   ]
  },
  {
   "cell_type": "code",
   "execution_count": 34,
   "metadata": {},
   "outputs": [
    {
     "name": "stdout",
     "output_type": "stream",
     "text": [
      "+-------+----------+\n",
      "|  accNo|tranAmount|\n",
      "+-------+----------+\n",
      "|SB10002|     -10.0|\n",
      "+-------+----------+\n",
      "\n"
     ]
    }
   ],
   "source": [
    "# Use SQL to create another DataFrame containing the bad amount records\n",
    "badAmountRecords = spark.sql(\"SELECT accNo, tranAmount FROM trans WHERE tranAmount < 0\")\n",
    "# Show the first few records of the DataFrame\n",
    "badAmountRecords.show()"
   ]
  },
  {
   "cell_type": "code",
   "execution_count": 35,
   "metadata": {},
   "outputs": [
    {
     "name": "stdout",
     "output_type": "stream",
     "text": [
      "+-------+----------+\n",
      "|  accNo|tranAmount|\n",
      "+-------+----------+\n",
      "|CR10001|    7000.0|\n",
      "|SB10002|     -10.0|\n",
      "+-------+----------+\n",
      "\n"
     ]
    }
   ],
   "source": [
    "# Do the union of two DataFrames and create another DataFrame\n",
    "badTransRecords = badAccountRecords.union(badAmountRecords)\n",
    "# Show the first few records of the DataFrame\n",
    "badTransRecords.show()"
   ]
  },
  {
   "cell_type": "code",
   "execution_count": 36,
   "metadata": {},
   "outputs": [
    {
     "name": "stdout",
     "output_type": "stream",
     "text": [
      "+-------+\n",
      "|    sum|\n",
      "+-------+\n",
      "|28486.0|\n",
      "+-------+\n",
      "\n"
     ]
    }
   ],
   "source": [
    "# Calculate the sum\n",
    "sumAmount = spark.sql(\"SELECT sum(tranAmount)as sum FROM goodtrans\")\n",
    "# Show the first few records of the DataFrame\n",
    "sumAmount.show()"
   ]
  },
  {
   "cell_type": "code",
   "execution_count": 37,
   "metadata": {},
   "outputs": [
    {
     "name": "stdout",
     "output_type": "stream",
     "text": [
      "+---------------+\n",
      "|sum(tranAmount)|\n",
      "+---------------+\n",
      "|        28486.0|\n",
      "+---------------+\n",
      "\n"
     ]
    }
   ],
   "source": [
    "# Calculate the sum\n",
    "sumAmount = goodTransRecords.agg({\"tranAmount\":\"sum\"})\n",
    "# Show the first few records of the DataFrame\n",
    "sumAmount.show()"
   ]
  },
  {
   "cell_type": "code",
   "execution_count": 38,
   "metadata": {},
   "outputs": [
    {
     "name": "stdout",
     "output_type": "stream",
     "text": [
      "+-------+\n",
      "|    max|\n",
      "+-------+\n",
      "|10000.0|\n",
      "+-------+\n",
      "\n"
     ]
    }
   ],
   "source": [
    "# Calculate the maximum\n",
    "maxAmount = spark.sql(\"SELECT max(tranAmount) as max FROM goodtrans\")\n",
    "# Show the first few records of the DataFrame\n",
    "maxAmount.show()"
   ]
  },
  {
   "cell_type": "code",
   "execution_count": 39,
   "metadata": {},
   "outputs": [
    {
     "name": "stdout",
     "output_type": "stream",
     "text": [
      "+---------------+\n",
      "|max(tranAmount)|\n",
      "+---------------+\n",
      "|        10000.0|\n",
      "+---------------+\n",
      "\n"
     ]
    }
   ],
   "source": [
    "# Calculate the maximum\n",
    "maxAmount = goodTransRecords.agg({\"tranAmount\":\"max\"})\n",
    "# Show the first few records of the DataFrame\n",
    "maxAmount.show()"
   ]
  },
  {
   "cell_type": "code",
   "execution_count": 40,
   "metadata": {},
   "outputs": [
    {
     "name": "stdout",
     "output_type": "stream",
     "text": [
      "+----+\n",
      "| min|\n",
      "+----+\n",
      "|30.0|\n",
      "+----+\n",
      "\n"
     ]
    }
   ],
   "source": [
    "# Calculate the minimum\n",
    "minAmount = spark.sql(\"SELECT min(tranAmount)as min FROM goodtrans\")\n",
    "# Show the first few records of the DataFrame\n",
    "minAmount.show()"
   ]
  },
  {
   "cell_type": "code",
   "execution_count": 41,
   "metadata": {},
   "outputs": [
    {
     "name": "stdout",
     "output_type": "stream",
     "text": [
      "+---------------+\n",
      "|min(tranAmount)|\n",
      "+---------------+\n",
      "|           30.0|\n",
      "+---------------+\n",
      "\n"
     ]
    }
   ],
   "source": [
    "# Calculate the minimum\n",
    "minAmount = goodTransRecords.agg({\"tranAmount\":\"min\"})\n",
    "# Show the first few records of the DataFrame\n",
    "minAmount.show()"
   ]
  },
  {
   "cell_type": "code",
   "execution_count": 42,
   "metadata": {},
   "outputs": [
    {
     "name": "stdout",
     "output_type": "stream",
     "text": [
      "+-------+\n",
      "|  accNo|\n",
      "+-------+\n",
      "|SB10001|\n",
      "|SB10002|\n",
      "|SB10003|\n",
      "|SB10004|\n",
      "|SB10005|\n",
      "|SB10006|\n",
      "|SB10007|\n",
      "|SB10008|\n",
      "|SB10009|\n",
      "|SB10010|\n",
      "+-------+\n",
      "\n"
     ]
    }
   ],
   "source": [
    "# Use SQL to create another DataFrame containing the good account numbers\n",
    "goodAccNos = spark.sql(\"SELECT DISTINCT accNo FROM trans WHERE accNo like 'SB%' ORDER BY accNo\")\n",
    "# Show the first few records of the DataFrame\n",
    "goodAccNos.show()"
   ]
  },
  {
   "cell_type": "code",
   "execution_count": 43,
   "metadata": {},
   "outputs": [
    {
     "name": "stdout",
     "output_type": "stream",
     "text": [
      "+-------+\n",
      "|  accNo|\n",
      "+-------+\n",
      "|SB10001|\n",
      "|SB10002|\n",
      "|SB10003|\n",
      "|SB10004|\n",
      "|SB10005|\n",
      "|SB10006|\n",
      "|SB10007|\n",
      "|SB10008|\n",
      "|SB10009|\n",
      "|SB10010|\n",
      "+-------+\n",
      "\n"
     ]
    }
   ],
   "source": [
    "# Create the DataFrame using API for the good account numbers\n",
    "goodAccNos = acTransDF.filter(\"accNo like 'SB%'\").select(\"accNo\").distinct().orderBy(\"accNo\")\n",
    "# Show the first few records of the DataFrame\n",
    "goodAccNos.show()"
   ]
  },
  {
   "cell_type": "code",
   "execution_count": 44,
   "metadata": {},
   "outputs": [
    {
     "data": {
      "text/plain": [
       "28486.0"
      ]
     },
     "execution_count": 44,
     "metadata": {},
     "output_type": "execute_result"
    }
   ],
   "source": [
    "# Calculate the sum using mixing of DataFrame and RDD like operations\n",
    "sumAmountByMixing = goodTransRecords.rdd.map(lambda trans:trans.tranAmount).reduce(lambda a,b : a+b)\n",
    "sumAmountByMixing"
   ]
  },
  {
   "cell_type": "code",
   "execution_count": 45,
   "metadata": {},
   "outputs": [
    {
     "data": {
      "text/plain": [
       "10000.0"
      ]
     },
     "execution_count": 45,
     "metadata": {},
     "output_type": "execute_result"
    }
   ],
   "source": [
    "# Calculate the maximum using mixing of DataFrame and RDD like operations\n",
    "maxAmountByMixing = goodTransRecords.rdd.map(lambda trans:trans.tranAmount).reduce(lambda a,b : a if a > b else b)\n",
    "maxAmountByMixing"
   ]
  },
  {
   "cell_type": "code",
   "execution_count": 46,
   "metadata": {},
   "outputs": [
    {
     "data": {
      "text/plain": [
       "30.0"
      ]
     },
     "execution_count": 46,
     "metadata": {},
     "output_type": "execute_result"
    }
   ],
   "source": [
    "# Calculate the minimum using mixing of DataFrame and RDD like operations\n",
    "minAmountByMixing = goodTransRecords.rdd.map(lambda trans:trans.tranAmount).reduce(lambda a,b : a if a < b else b)\n",
    "minAmountByMixing"
   ]
  },
  {
   "cell_type": "code",
   "execution_count": 47,
   "metadata": {},
   "outputs": [
    {
     "name": "stdout",
     "output_type": "stream",
     "text": [
      "+-------+----------+\n",
      "|  accNo|tranAmount|\n",
      "+-------+----------+\n",
      "|SB10007|     500.0|\n",
      "|SB10008|      56.0|\n",
      "|SB10009|      30.0|\n",
      "|SB10010|    7000.0|\n",
      "|CR10001|    7000.0|\n",
      "|SB10002|     -10.0|\n",
      "|SB10001|    1000.0|\n",
      "|SB10002|    1200.0|\n",
      "|SB10003|    8000.0|\n",
      "|SB10004|     400.0|\n",
      "|SB10005|     300.0|\n",
      "|SB10006|   10000.0|\n",
      "+-------+----------+\n",
      "\n"
     ]
    }
   ],
   "source": [
    "# Persist the data of the DataFrame into a Parquet file\n",
    "acTransDF.write.parquet(\"python.trans.parquet\")\n",
    "# Read the data into a DataFrame from the Parquet file\n",
    "acTransDFfromParquet = spark.read.parquet(\"python.trans.parquet\")\n",
    "# Show the first few records of the DataFrame\n",
    "acTransDFfromParquet.show()"
   ]
  },
  {
   "cell_type": "markdown",
   "metadata": {},
   "source": [
    "### Chapter 3: Understanding Aggregations in Spark SQL"
   ]
  },
  {
   "cell_type": "code",
   "execution_count": 48,
   "metadata": {},
   "outputs": [
    {
     "name": "stdout",
     "output_type": "stream",
     "text": [
      "+-------+----------+\n",
      "|  accNo|transTotal|\n",
      "+-------+----------+\n",
      "|SB10005|      56.0|\n",
      "|SB10004|     500.0|\n",
      "|SB10003|     330.0|\n",
      "|SB10002|    8590.0|\n",
      "|SB10001|   18900.0|\n",
      "+-------+----------+\n",
      "\n"
     ]
    }
   ],
   "source": [
    "from pyspark.sql import Row\n",
    "# Creation of the list from where the RDD is going to be created\n",
    "acTransList = [\"SB10001,1000\", \"SB10002,1200\",\"SB10001,8000\",\"SB10002,400\", \"SB10003,300\",\n",
    "               \"SB10001,10000\",\"SB10004,500\",\"SB10005,56\",\"SB10003,30\",\"SB10002,7000\", \"SB10001,-100\",\"SB10002,-10\"]\n",
    "# Create the DataFrame\n",
    "acTransDF = sc.parallelize(acTransList).map(lambda trans: trans.split(\",\")).map(lambda p: Row(accNo=p[0],tranAmount=float(p[1]))).toDF()\n",
    "# Register temporary view in the DataFrame for using it in SQL\n",
    "acTransDF.createOrReplaceTempView(\"trans\")\n",
    "# Use SQL to create another DataFrame containing the account summary records\n",
    "acSummary = spark.sql(\"SELECT accNo, sum(tranAmount) as transTotal FROM trans GROUP BY accNo\")\n",
    "# Show the first few records of the DataFrame\n",
    "acSummary.show()"
   ]
  },
  {
   "cell_type": "code",
   "execution_count": 49,
   "metadata": {},
   "outputs": [
    {
     "name": "stdout",
     "output_type": "stream",
     "text": [
      "+-------+----------+\n",
      "|  accNo|transTotal|\n",
      "+-------+----------+\n",
      "|SB10005|      56.0|\n",
      "|SB10004|     500.0|\n",
      "|SB10003|     330.0|\n",
      "|SB10002|    8590.0|\n",
      "|SB10001|   18900.0|\n",
      "+-------+----------+\n",
      "\n"
     ]
    }
   ],
   "source": [
    "# Create the DataFrame using API for the account summary records\n",
    "acSummaryViaDFAPI = acTransDF.groupBy(\"accNo\").agg({\"tranAmount\":\"sum\"}).selectExpr(\"accNo\", \"`sum(tranAmount)` as transTotal\")\n",
    "# Show the first few records of the DataFrame\n",
    "acSummaryViaDFAPI.show()"
   ]
  },
  {
   "cell_type": "markdown",
   "metadata": {},
   "source": [
    "### Chapter 3: Understanding multi-datasource joining with SparkSQL"
   ]
  },
  {
   "cell_type": "code",
   "execution_count": 50,
   "metadata": {},
   "outputs": [
    {
     "name": "stdout",
     "output_type": "stream",
     "text": [
      "+-------+---------+--------+\n",
      "|  accNo|firstName|lastName|\n",
      "+-------+---------+--------+\n",
      "|SB10003|   Rafael|   Nadal|\n",
      "|SB10004|    Boris|  Becker|\n",
      "|SB10005|     Ivan|   Lendl|\n",
      "|SB10001|    Roger| Federer|\n",
      "|SB10002|     Pete| Sampras|\n",
      "+-------+---------+--------+\n",
      "\n"
     ]
    }
   ],
   "source": [
    "from pyspark.sql import Row\n",
    "# Creation of the list from where the RDD is going to be created\n",
    "AcMaster = Row('accNo', 'firstName', 'lastName')\n",
    "AcBal = Row('accNo', 'balanceAmount')\n",
    "acMasterList = [\"SB10001,Roger,Federer\",\"SB10002,Pete,Sampras\",\"SB10003,Rafael,Nadal\",\"SB10004,Boris,Becker\",\n",
    "                \"SB10005,Ivan,Lendl\"]\n",
    "acBalList = [\"SB10001,50000\",\"SB10002,12000\",\"SB10003,3000\", \"SB10004,8500\",\"SB10005,5000\"]\n",
    "# Create the DataFrame\n",
    "acMasterDF = sc.parallelize(acMasterList).map(lambda trans:trans.split(\",\")).map(lambda r: AcMaster(*r)).toDF()\n",
    "acBalDF = sc.parallelize(acBalList).map(lambda trans: trans.split(\",\")).map(lambda r: AcBal(r[0],float(r[1]))).toDF()\n",
    "# Persist the data of the DataFrame into a Parquet file\n",
    "acMasterDF.write.parquet(\"python.master.parquet\")\n",
    "# Persist the data of the DataFrame into a JSON file\n",
    "acBalDF.write.json(\"pythonMaster.json\")\n",
    "# Read the data into a DataFrame from the Parquet file\n",
    "acMasterDFFromFile = spark.read.parquet(\"python.master.parquet\")\n",
    "# Register temporary table in the DataFrame for using it in SQL\n",
    "acMasterDFFromFile.createOrReplaceTempView(\"master\")\n",
    "# Register temporary table in the DataFrame for using it in SQL\n",
    "acBalDFFromFile = spark.read.json(\"pythonMaster.json\")\n",
    "# Register temporary table in the DataFrame for using it in SQL\n",
    "acBalDFFromFile.createOrReplaceTempView(\"balance\")\n",
    "# Show the first few records of the DataFrame\n",
    "acMasterDFFromFile.show()"
   ]
  },
  {
   "cell_type": "code",
   "execution_count": 51,
   "metadata": {},
   "outputs": [
    {
     "name": "stdout",
     "output_type": "stream",
     "text": [
      "+-------+-------------+\n",
      "|  accNo|balanceAmount|\n",
      "+-------+-------------+\n",
      "|SB10003|       3000.0|\n",
      "|SB10004|       8500.0|\n",
      "|SB10005|       5000.0|\n",
      "|SB10001|      50000.0|\n",
      "|SB10002|      12000.0|\n",
      "+-------+-------------+\n",
      "\n"
     ]
    }
   ],
   "source": [
    "# Show the first few records of the DataFrame\n",
    "acBalDFFromFile.show()"
   ]
  },
  {
   "cell_type": "code",
   "execution_count": 52,
   "metadata": {},
   "outputs": [
    {
     "name": "stdout",
     "output_type": "stream",
     "text": [
      "+-------+---------+--------+-------------+\n",
      "|  accNo|firstName|lastName|balanceAmount|\n",
      "+-------+---------+--------+-------------+\n",
      "|SB10001|    Roger| Federer|      50000.0|\n",
      "|SB10002|     Pete| Sampras|      12000.0|\n",
      "|SB10004|    Boris|  Becker|       8500.0|\n",
      "|SB10005|     Ivan|   Lendl|       5000.0|\n",
      "|SB10003|   Rafael|   Nadal|       3000.0|\n",
      "+-------+---------+--------+-------------+\n",
      "\n"
     ]
    }
   ],
   "source": [
    "# Use SQL to create another DataFrame containing the account detail records\n",
    "acDetail = spark.sql(\"SELECT master.accNo,firstName, lastName, balanceAmount FROM master,balance WHERE master.accNo = balance.accNo ORDER BY balanceAmount DESC\")\n",
    "# Show the first few records of the DataFrame\n",
    "acDetail.show()"
   ]
  },
  {
   "cell_type": "code",
   "execution_count": 53,
   "metadata": {},
   "outputs": [
    {
     "name": "stdout",
     "output_type": "stream",
     "text": [
      "+-------+---------+--------+-------------+\n",
      "|  accNo|firstName|lastName|balanceAmount|\n",
      "+-------+---------+--------+-------------+\n",
      "|SB10001|    Roger| Federer|      50000.0|\n",
      "|SB10002|     Pete| Sampras|      12000.0|\n",
      "|SB10004|    Boris|  Becker|       8500.0|\n",
      "|SB10005|     Ivan|   Lendl|       5000.0|\n",
      "|SB10003|   Rafael|   Nadal|       3000.0|\n",
      "+-------+---------+--------+-------------+\n",
      "\n"
     ]
    }
   ],
   "source": [
    "# Create the DataFrame using API for the account detail records\n",
    "acDetailFromAPI = acMasterDFFromFile.join(acBalDFFromFile,acMasterDFFromFile.accNo ==acBalDFFromFile.accNo).sort(acBalDFFromFile.balanceAmount, ascending=False).select(acMasterDFFromFile.accNo,\n",
    "                  acMasterDFFromFile.firstName,acMasterDFFromFile.lastName,acBalDFFromFile.balanceAmount)\n",
    "# Show the first few records of the DataFrame\n",
    "acDetailFromAPI.show()"
   ]
  },
  {
   "cell_type": "code",
   "execution_count": 54,
   "metadata": {},
   "outputs": [
    {
     "name": "stdout",
     "output_type": "stream",
     "text": [
      "+-------+---------+--------+-------------+\n",
      "|  accNo|firstName|lastName|balanceAmount|\n",
      "+-------+---------+--------+-------------+\n",
      "|SB10001|    Roger| Federer|      50000.0|\n",
      "|SB10002|     Pete| Sampras|      12000.0|\n",
      "|SB10004|    Boris|  Becker|       8500.0|\n",
      "+-------+---------+--------+-------------+\n",
      "\n"
     ]
    }
   ],
   "source": [
    "# Use SQL to create another DataFrame containing the top 3 account detail records\n",
    "acDetailTop3 = spark.sql(\"SELECT master.accNo,firstName, lastName, balanceAmount FROM master,balance WHERE master.accNo = balance.accNo ORDER BY balanceAmount DESC\").limit(3)\n",
    "# Show the first few records of the DataFrame\n",
    "acDetailTop3.show()"
   ]
  },
  {
   "cell_type": "markdown",
   "metadata": {},
   "source": [
    "### Chapter 5: Spark Data Analysis with Python"
   ]
  },
  {
   "cell_type": "code",
   "execution_count": 55,
   "metadata": {},
   "outputs": [
    {
     "name": "stdout",
     "output_type": "stream",
     "text": [
      "+---+------+---+-------------+-------+\n",
      "|age|gender| id|   occupation|zipcode|\n",
      "+---+------+---+-------------+-------+\n",
      "| 24|     M|  1|   technician|  85711|\n",
      "| 53|     F|  2|        other|  94043|\n",
      "| 23|     M|  3|       writer|  32067|\n",
      "| 24|     M|  4|   technician|  43537|\n",
      "| 33|     F|  5|        other|  15213|\n",
      "| 42|     M|  6|    executive|  98101|\n",
      "| 57|     M|  7|administrator|  91344|\n",
      "| 36|     M|  8|administrator|  05201|\n",
      "| 29|     M|  9|      student|  01002|\n",
      "| 53|     M| 10|       lawyer|  90703|\n",
      "| 39|     F| 11|        other|  30329|\n",
      "| 28|     F| 12|        other|  06405|\n",
      "| 47|     M| 13|     educator|  29206|\n",
      "| 45|     M| 14|    scientist|  55106|\n",
      "| 49|     F| 15|     educator|  97301|\n",
      "| 21|     M| 16|entertainment|  10309|\n",
      "| 30|     M| 17|   programmer|  06355|\n",
      "| 35|     F| 18|        other|  37212|\n",
      "| 40|     M| 19|    librarian|  02138|\n",
      "| 42|     F| 20|    homemaker|  95660|\n",
      "+---+------+---+-------------+-------+\n",
      "only showing top 20 rows\n",
      "\n"
     ]
    }
   ],
   "source": [
    "# Import all the required libraries\n",
    "from pyspark.sql import Row\n",
    "import matplotlib.pyplot as plt\n",
    "import numpy as np\n",
    "import matplotlib.pyplot as plt\n",
    "import pylab as P\n",
    "plt.rcdefaults()\n",
    "# TODO - The following location has to be changed to the appropriate data file location\n",
    "dataDir = \"/home/thiamhuat/data/ml-100k/\"\n",
    "# Create the DataFrame of the user dataset\n",
    "lines = sc.textFile(dataDir + \"u.user\")\n",
    "splitLines = lines.map(lambda l: l.split(\"|\"))\n",
    "usersRDD = splitLines.map(lambda p: Row(id=p[0],age=int(p[1]), gender=p[2], occupation=p[3],zipcode=p[4]))\n",
    "usersDF = spark.createDataFrame(usersRDD)\n",
    "usersDF.createOrReplaceTempView(\"users\")\n",
    "usersDF.show()"
   ]
  },
  {
   "cell_type": "code",
   "execution_count": 56,
   "metadata": {},
   "outputs": [
    {
     "name": "stdout",
     "output_type": "stream",
     "text": [
      "+-------+-----------------+\n",
      "|summary|              age|\n",
      "+-------+-----------------+\n",
      "|  count|              943|\n",
      "|   mean|34.05196182396607|\n",
      "| stddev|12.19273973305903|\n",
      "|    min|                7|\n",
      "|    max|               73|\n",
      "+-------+-----------------+\n",
      "\n"
     ]
    }
   ],
   "source": [
    "# Create the DataFrame of the user dataset with only one column age\n",
    "ageDF = spark.sql(\"SELECT age FROM users\")\n",
    "ageList = ageDF.rdd.map(lambda p:p.age).collect()\n",
    "ageDF.describe().show()"
   ]
  },
  {
   "cell_type": "markdown",
   "metadata": {},
   "source": [
    "### Histogram"
   ]
  },
  {
   "cell_type": "code",
   "execution_count": 57,
   "metadata": {},
   "outputs": [
    {
     "data": {
      "image/png": "[encoded data removed]",
      "text/plain": [
       "<Figure size 432x288 with 1 Axes>"
      ]
     },
     "metadata": {},
     "output_type": "display_data"
    }
   ],
   "source": [
    "# Age distribution of the users\n",
    "plt.hist(ageList)\n",
    "plt.title(\"Age distribution of the users\\n\")\n",
    "plt.xlabel(\"Age\")\n",
    "plt.ylabel(\"Number of users\")\n",
    "plt.show(block=False)"
   ]
  },
  {
   "cell_type": "markdown",
   "metadata": {},
   "source": [
    "### Density plot"
   ]
  },
  {
   "cell_type": "code",
   "execution_count": 58,
   "metadata": {},
   "outputs": [
    {
     "data": {
      "image/png": "[encoded data removed]",
      "text/plain": [
       "<Figure size 432x288 with 1 Axes>"
      ]
     },
     "metadata": {},
     "output_type": "display_data"
    }
   ],
   "source": [
    "# Draw a density plot\n",
    "from scipy.stats import gaussian_kde\n",
    "density = gaussian_kde(ageList)\n",
    "xAxisValues = np.linspace(0,100,1000)\n",
    "density.covariance_factor = lambda : .5\n",
    "density._compute_covariance()\n",
    "plt.title(\"Age density plot of the users\\n\")\n",
    "plt.xlabel(\"Age\")\n",
    "plt.ylabel(\"Density\")\n",
    "plt.plot(xAxisValues, density(xAxisValues))\n",
    "plt.show(block=False)"
   ]
  },
  {
   "cell_type": "code",
   "execution_count": 59,
   "metadata": {},
   "outputs": [
    {
     "data": {
      "image/png": "[encoded data removed]",
      "text/plain": [
       "<Figure size 432x288 with 2 Axes>"
      ]
     },
     "metadata": {},
     "output_type": "display_data"
    }
   ],
   "source": [
    "# The following example demonstrates the creation of multiple diagrams in one figure\n",
    "# There are two plots on one row\n",
    "# The first one is the histogram of the distribution\n",
    "# The second one is the boxplot containing the summary of the distribution\n",
    "plt.subplot(121)\n",
    "plt.hist(ageList)\n",
    "plt.title(\"Age distribution of the users\\n\")\n",
    "plt.xlabel(\"Age\")\n",
    "plt.ylabel(\"Number of users\")\n",
    "plt.subplot(122)\n",
    "plt.title(\"Summary of distribution\\n\")\n",
    "plt.xlabel(\"Age\")\n",
    "plt.boxplot(ageList, vert=False)\n",
    "plt.show(block=False)"
   ]
  },
  {
   "cell_type": "code",
   "execution_count": 60,
   "metadata": {},
   "outputs": [
    {
     "name": "stdout",
     "output_type": "stream",
     "text": [
      "+-------------+---------+\n",
      "|   occupation|usercount|\n",
      "+-------------+---------+\n",
      "|      student|      196|\n",
      "|        other|      105|\n",
      "|     educator|       95|\n",
      "|administrator|       79|\n",
      "|     engineer|       67|\n",
      "|   programmer|       66|\n",
      "|    librarian|       51|\n",
      "|       writer|       45|\n",
      "|    executive|       32|\n",
      "|    scientist|       31|\n",
      "+-------------+---------+\n",
      "\n"
     ]
    }
   ],
   "source": [
    "occupationsTop10 = spark.sql(\"SELECT occupation,count(occupation) as usercount FROM users GROUP BY occupation ORDER BY usercount DESC LIMIT 10\")\n",
    "occupationsTop10.show()"
   ]
  },
  {
   "cell_type": "markdown",
   "metadata": {},
   "source": [
    "### Bar chart"
   ]
  },
  {
   "cell_type": "code",
   "execution_count": 61,
   "metadata": {},
   "outputs": [
    {
     "data": {
      "image/png": "[encoded data removed]",
      "text/plain": [
       "<Figure size 432x288 with 1 Axes>"
      ]
     },
     "metadata": {},
     "output_type": "display_data"
    }
   ],
   "source": [
    "occupationsTop10Tuple = occupationsTop10.rdd.map(lambda p:(p.occupation,p.usercount)).collect()\n",
    "occupationsTop10List, countTop10List = zip(*occupationsTop10Tuple)\n",
    "occupationsTop10Tuple\n",
    "# Top 10 occupations in terms of the number of users having that occupation who have rated movies\n",
    "y_pos = np.arange(len(occupationsTop10List))\n",
    "plt.barh(y_pos, countTop10List, align='center', alpha=0.4)\n",
    "plt.yticks(y_pos, occupationsTop10List)\n",
    "plt.xlabel('Number of users')\n",
    "plt.title('Top 10 user types\\n')\n",
    "plt.gcf().subplots_adjust(left=0.15)\n",
    "plt.show(block=False)"
   ]
  },
  {
   "cell_type": "code",
   "execution_count": 62,
   "metadata": {},
   "outputs": [
    {
     "name": "stdout",
     "output_type": "stream",
     "text": [
      "+-------------+------+\n",
      "|   occupation|gender|\n",
      "+-------------+------+\n",
      "|   technician|     M|\n",
      "|        other|     F|\n",
      "|       writer|     M|\n",
      "|   technician|     M|\n",
      "|        other|     F|\n",
      "|    executive|     M|\n",
      "|administrator|     M|\n",
      "|administrator|     M|\n",
      "|      student|     M|\n",
      "|       lawyer|     M|\n",
      "|        other|     F|\n",
      "|        other|     F|\n",
      "|     educator|     M|\n",
      "|    scientist|     M|\n",
      "|     educator|     F|\n",
      "|entertainment|     M|\n",
      "|   programmer|     M|\n",
      "|        other|     F|\n",
      "|    librarian|     M|\n",
      "|    homemaker|     F|\n",
      "+-------------+------+\n",
      "only showing top 20 rows\n",
      "\n"
     ]
    }
   ],
   "source": [
    "occupationsGender = spark.sql(\"SELECT occupation,gender FROM users\")\n",
    "occupationsGender.show()"
   ]
  },
  {
   "cell_type": "code",
   "execution_count": 63,
   "metadata": {},
   "outputs": [
    {
     "name": "stdout",
     "output_type": "stream",
     "text": [
      "+-----------------+---+---+\n",
      "|occupation_gender|  F|  M|\n",
      "+-----------------+---+---+\n",
      "|        scientist|  3| 28|\n",
      "|          student| 60|136|\n",
      "|           writer| 19| 26|\n",
      "|         salesman|  3|  9|\n",
      "|          retired|  1| 13|\n",
      "|    administrator| 36| 43|\n",
      "|       programmer|  6| 60|\n",
      "|           doctor|  0|  7|\n",
      "|        homemaker|  6|  1|\n",
      "|        executive|  3| 29|\n",
      "|         engineer|  2| 65|\n",
      "|    entertainment|  2| 16|\n",
      "|        marketing| 10| 16|\n",
      "|       technician|  1| 26|\n",
      "|           artist| 13| 15|\n",
      "|        librarian| 29| 22|\n",
      "|           lawyer|  2| 10|\n",
      "|         educator| 26| 69|\n",
      "|       healthcare| 11|  5|\n",
      "|             none|  4|  5|\n",
      "+-----------------+---+---+\n",
      "only showing top 20 rows\n",
      "\n"
     ]
    }
   ],
   "source": [
    "occCrossTab = occupationsGender.stat.crosstab(\"occupation\",\"gender\")\n",
    "occCrossTab.show()"
   ]
  },
  {
   "cell_type": "markdown",
   "metadata": {},
   "source": [
    "### Stacked bar chart"
   ]
  },
  {
   "cell_type": "code",
   "execution_count": 64,
   "metadata": {},
   "outputs": [
    {
     "data": {
      "image/png": "[encoded data removed]",
      "text/plain": [
       "<Figure size 432x288 with 1 Axes>"
      ]
     },
     "metadata": {},
     "output_type": "display_data"
    }
   ],
   "source": [
    "occupationsCrossTuple = occCrossTab.rdd.map(lambda p:(p.occupation_gender,p.M, p.F)).collect()\n",
    "occList, mList, fList = zip(*occupationsCrossTuple)\n",
    "N = len(occList)\n",
    "ind = np.arange(N) # the x locations for the groups\n",
    "width = 0.75 # the width of the bars \n",
    "p1 = plt.bar(ind, mList, width, color='r')\n",
    "p2 = plt.bar(ind, fList, width, color='y', bottom=mList)\n",
    "plt.ylabel('Count')\n",
    "plt.title('Gender distribution by occupation\\n')\n",
    "plt.xticks(ind + width/2., occList, rotation=90)\n",
    "plt.legend((p1[0], p2[0]), ('Male', 'Female'))\n",
    "plt.gcf().subplots_adjust(bottom=0.25)\n",
    "plt.show(block=False)"
   ]
  },
  {
   "cell_type": "code",
   "execution_count": 65,
   "metadata": {},
   "outputs": [
    {
     "name": "stdout",
     "output_type": "stream",
     "text": [
      "+-------+------------------+------------------+\n",
      "|summary|                 M|                 F|\n",
      "+-------+------------------+------------------+\n",
      "|  count|                21|                21|\n",
      "|   mean|31.904761904761905|              13.0|\n",
      "| stddev|  32.3757698934014|15.874507866387544|\n",
      "|    min|                 1|                 0|\n",
      "|    max|               136|                60|\n",
      "+-------+------------------+------------------+\n",
      "\n"
     ]
    }
   ],
   "source": [
    " occCrossTab.describe('M', 'F').show()"
   ]
  },
  {
   "cell_type": "code",
   "execution_count": 66,
   "metadata": {},
   "outputs": [
    {
     "name": "stdout",
     "output_type": "stream",
     "text": [
      "+-------------+---------+\n",
      "|   occupation|usercount|\n",
      "+-------------+---------+\n",
      "|       doctor|        7|\n",
      "|    homemaker|        7|\n",
      "|         none|        9|\n",
      "|     salesman|       12|\n",
      "|       lawyer|       12|\n",
      "|      retired|       14|\n",
      "|   healthcare|       16|\n",
      "|entertainment|       18|\n",
      "|    marketing|       26|\n",
      "|   technician|       27|\n",
      "+-------------+---------+\n",
      "\n"
     ]
    }
   ],
   "source": [
    "occupationsBottom10 = spark.sql(\"SELECT occupation, count(occupation) as usercount FROM users GROUP BY occupation ORDER BY usercount LIMIT 10\")\n",
    "occupationsBottom10.show()"
   ]
  },
  {
   "cell_type": "markdown",
   "metadata": {},
   "source": [
    "### Pie chart"
   ]
  },
  {
   "cell_type": "code",
   "execution_count": 67,
   "metadata": {},
   "outputs": [
    {
     "data": {
      "image/png": "[encoded data removed]",
      "text/plain": [
       "<Figure size 432x288 with 1 Axes>"
      ]
     },
     "metadata": {},
     "output_type": "display_data"
    }
   ],
   "source": [
    "occupationsBottom10Tuple = occupationsBottom10.rdd.map(lambda p:(p.occupation,p.usercount)).collect()\n",
    "occupationsBottom10List, countBottom10List = zip(*occupationsBottom10Tuple)\n",
    "# Bottom 10 occupations in terms of the number of users having that occupation who have rated movies\n",
    "explode = (0, 0, 0, 0,0.1,0,0,0,0,0.1)\n",
    "plt.pie(countBottom10List,explode=explode, labels=occupationsBottom10List,autopct='%1.1f%%', shadow=True, startangle=90)\n",
    "plt.title('Bottom 10 user types\\n')\n",
    "plt.show(block=False)"
   ]
  },
  {
   "cell_type": "code",
   "execution_count": 68,
   "metadata": {},
   "outputs": [
    {
     "name": "stdout",
     "output_type": "stream",
     "text": [
      "+-------+---------+\n",
      "|zipcode|usercount|\n",
      "+-------+---------+\n",
      "|  55414|        9|\n",
      "|  55105|        6|\n",
      "|  20009|        5|\n",
      "|  10003|        5|\n",
      "|  55337|        5|\n",
      "|  27514|        4|\n",
      "|  55408|        4|\n",
      "|  55454|        4|\n",
      "|  94043|        3|\n",
      "|  55106|        3|\n",
      "+-------+---------+\n",
      "\n"
     ]
    }
   ],
   "source": [
    "zipTop10 = spark.sql(\"SELECT zipcode,count(zipcode) as usercount FROM users GROUP BY zipcode ORDER BY usercount DESC LIMIT 10\")\n",
    "zipTop10.show()"
   ]
  },
  {
   "cell_type": "markdown",
   "metadata": {},
   "source": [
    "### Donut chart"
   ]
  },
  {
   "cell_type": "code",
   "execution_count": 69,
   "metadata": {},
   "outputs": [
    {
     "data": {
      "image/png": "[encoded data removed]",
      "text/plain": [
       "<Figure size 432x288 with 1 Axes>"
      ]
     },
     "metadata": {},
     "output_type": "display_data"
    }
   ],
   "source": [
    "zipTop10Tuple = zipTop10.rdd.map(lambda p:(p.zipcode,p.usercount)).collect()\n",
    "zipTop10List, countTop10List = zip(*zipTop10Tuple)\n",
    "# Top 10 zipcodes in terms of the number of users living in that zipcode who have rated movies\n",
    "explode = (0.1, 0, 0, 0,0,0,0,0,0,0) # explode a slice if required\n",
    "plt.pie(countTop10List, explode=explode,labels=zipTop10List, autopct='%1.1f%%', shadow=True)\n",
    "#Draw a circle at the center of pie to make it look like a donut\n",
    "centre_circle = plt.Circle((0,0),0.75,color='black',fc='white',linewidth=1.25)\n",
    "fig = plt.gcf()\n",
    "fig.gca().add_artist(centre_circle)\n",
    "# The aspect ratio is to be made equal.This is to make sure that pie chart is coming perfectly as a circle.\n",
    "plt.axis('equal')\n",
    "plt.text(- 0.25,0,'Top 10 zip codes')\n",
    "plt.show(block=False)"
   ]
  },
  {
   "cell_type": "code",
   "execution_count": 70,
   "metadata": {},
   "outputs": [
    {
     "name": "stdout",
     "output_type": "stream",
     "text": [
      "+-------+-------------+------------------+\n",
      "|summary|   occupation|               age|\n",
      "+-------+-------------+------------------+\n",
      "|  count|           79|                79|\n",
      "|   mean|         null| 38.74683544303797|\n",
      "| stddev|         null|11.123396864533209|\n",
      "|    min|administrator|                21|\n",
      "|    max|administrator|                70|\n",
      "+-------+-------------+------------------+\n",
      "\n"
     ]
    }
   ],
   "source": [
    "ages = spark.sql(\"SELECT occupation, age FROM users WHERE occupation ='administrator' ORDER BY age\")\n",
    "adminAges = ages.rdd.map(lambda p:p.age).collect()\n",
    "ages.describe().show()"
   ]
  },
  {
   "cell_type": "code",
   "execution_count": 71,
   "metadata": {},
   "outputs": [],
   "source": [
    "ages = spark.sql(\"SELECT occupation, age FROM users WHERE occupation ='engineer' ORDER BY age\")\n",
    "engAges = ages.rdd.map(lambda p: p.age).collect()"
   ]
  },
  {
   "cell_type": "code",
   "execution_count": 72,
   "metadata": {},
   "outputs": [
    {
     "name": "stdout",
     "output_type": "stream",
     "text": [
      "+-------+----------+------------------+\n",
      "|summary|occupation|               age|\n",
      "+-------+----------+------------------+\n",
      "|  count|        67|                67|\n",
      "|   mean|      null| 36.38805970149254|\n",
      "| stddev|      null|11.199235936979779|\n",
      "|    min|  engineer|                22|\n",
      "|    max|  engineer|                70|\n",
      "+-------+----------+------------------+\n",
      "\n"
     ]
    }
   ],
   "source": [
    "ages.describe().show()"
   ]
  },
  {
   "cell_type": "code",
   "execution_count": 73,
   "metadata": {},
   "outputs": [
    {
     "name": "stdout",
     "output_type": "stream",
     "text": [
      "+-------+----------+------------------+\n",
      "|summary|occupation|               age|\n",
      "+-------+----------+------------------+\n",
      "|  count|        66|                66|\n",
      "|   mean|      null|33.121212121212125|\n",
      "| stddev|      null| 9.624512217833972|\n",
      "|    min|programmer|                20|\n",
      "|    max|programmer|                63|\n",
      "+-------+----------+------------------+\n",
      "\n"
     ]
    }
   ],
   "source": [
    "ages = spark.sql(\"SELECT occupation, age FROM users WHERE occupation ='programmer' ORDER BY age\")\n",
    "progAges = ages.rdd.map(lambda p: p.age).collect()\n",
    "ages.describe().show()"
   ]
  },
  {
   "cell_type": "markdown",
   "metadata": {},
   "source": [
    "### Box Plot"
   ]
  },
  {
   "cell_type": "code",
   "execution_count": 74,
   "metadata": {},
   "outputs": [
    {
     "data": {
      "image/png": "[encoded data removed]",
      "text/plain": [
       "<Figure size 432x288 with 1 Axes>"
      ]
     },
     "metadata": {},
     "output_type": "display_data"
    }
   ],
   "source": [
    " # Box plots of the ages by profession\n",
    "boxPlotAges = [adminAges, engAges, progAges]\n",
    "boxPlotLabels = ['administrator','engineer','programmer' ]\n",
    "x = np.arange(len(boxPlotLabels))\n",
    "plt.figure()\n",
    "plt.boxplot(boxPlotAges)\n",
    "plt.title('Age summary statistics\\n')\n",
    "plt.ylabel(\"Age\")\n",
    "plt.xticks(x + 1, boxPlotLabels, rotation=0)\n",
    "plt.show(block=False)"
   ]
  },
  {
   "cell_type": "markdown",
   "metadata": {},
   "source": [
    "### Vertical bar chart"
   ]
  },
  {
   "cell_type": "code",
   "execution_count": 75,
   "metadata": {},
   "outputs": [
    {
     "data": {
      "text/plain": [
       "{'unknown': 2,\n",
       " 'action': 251,\n",
       " 'adventure': 135,\n",
       " 'animation': 42,\n",
       " 'childrens': 122,\n",
       " 'comedy': 505,\n",
       " 'crime': 109,\n",
       " 'documentary': 50,\n",
       " 'drama': 725,\n",
       " 'fantasy': 22,\n",
       " 'filmNoir': 24,\n",
       " 'horror': 92,\n",
       " 'musical': 56,\n",
       " 'mystery': 61,\n",
       " 'romance': 247,\n",
       " 'sciFi': 101,\n",
       " 'thriller': 251,\n",
       " 'war': 71,\n",
       " 'western': 27}"
      ]
     },
     "execution_count": 75,
     "metadata": {},
     "output_type": "execute_result"
    }
   ],
   "source": [
    "movieLines = sc.textFile(dataDir + \"u.item\")\n",
    "splitMovieLines = movieLines.map(lambda l:l.split(\"|\"))\n",
    "moviesRDD = splitMovieLines.map(lambda p:Row(id=p[0], title=p[1], releaseDate=p[2],videoReleaseDate=p[3], url=p[4],\n",
    "             unknown=int(p[5]),action=int(p[6]),adventure=int(p[7]),animation=int(p[8]),childrens=int(p[9]),\n",
    "             comedy=int(p[10]),crime=int(p[11]),documentary=int(p[12]),drama=int(p[13]),fantasy=int(p[14]),\n",
    "             filmNoir=int(p[15]),horror=int(p[16]),musical=int(p[17]),mystery=int(p[18]),romance=int(p[19]),\n",
    "             sciFi=int(p[20]),thriller=int(p[21]),war=int(p[22]),western=int(p[23])))\n",
    "moviesDF = spark.createDataFrame(moviesRDD)\n",
    "moviesDF.createOrReplaceTempView(\"movies\")\n",
    "genreDF = spark.sql(\n",
    "     'SELECT sum(unknown) as unknown, sum(action) as action,sum(adventure) as adventure,sum(animation) as animation,'\n",
    "     'sum(childrens) as childrens,sum(comedy) as comedy,sum(crime) as crime,sum(documentary) as documentary,'\n",
    "     'sum(drama) as drama,sum(fantasy) as fantasy,sum(filmNoir) as filmNoir,sum(horror) as horror,sum(musical)' \n",
    "     'as musical,sum(mystery) as mystery,sum(romance) as romance,sum(sciFi) as sciFi,sum(thriller) as '\n",
    "     'thriller,sum(war) as war,sum(western) as western FROM movies')\n",
    "\n",
    "genreList = genreDF.collect()\n",
    "genreDict = genreList[0].asDict()\n",
    "labelValues = list(genreDict.keys())\n",
    "countList = list(genreDict.values())\n",
    "\n",
    "genreDict"
   ]
  },
  {
   "cell_type": "code",
   "execution_count": 76,
   "metadata": {},
   "outputs": [
    {
     "data": {
      "image/png": "[encoded data removed]",
      "text/plain": [
       "<Figure size 432x288 with 1 Axes>"
      ]
     },
     "metadata": {},
     "output_type": "display_data"
    }
   ],
   "source": [
    "# Movie types and the counts\n",
    "x = np.arange(len(labelValues))\n",
    "plt.title('Movie types\\n')\n",
    "plt.ylabel(\"Count\")\n",
    "plt.bar(x, countList)\n",
    "plt.xticks(x + 0.5, labelValues,rotation=90)\n",
    "plt.gcf().subplots_adjust(bottom=0.20)\n",
    "plt.show(block=False)"
   ]
  },
  {
   "cell_type": "markdown",
   "metadata": {},
   "source": [
    "### Scatter plot"
   ]
  },
  {
   "cell_type": "code",
   "execution_count": 77,
   "metadata": {},
   "outputs": [
    {
     "name": "stdout",
     "output_type": "stream",
     "text": [
      "+-----------+----------+\n",
      "|releaseYear|movieCount|\n",
      "+-----------+----------+\n",
      "|       1996|       355|\n",
      "|       1997|       286|\n",
      "|       1995|       219|\n",
      "|       1994|       214|\n",
      "|       1993|       126|\n",
      "|       1998|        65|\n",
      "|       1992|        37|\n",
      "|       1990|        24|\n",
      "|       1991|        22|\n",
      "|       1989|        15|\n",
      "+-----------+----------+\n",
      "\n"
     ]
    }
   ],
   "source": [
    "yearDF = spark.sql(\n",
    "    'SELECT substring(releaseDate,8,4) as releaseYear, count(*) as movieCount FROM movies GROUP BY substring(releaseDate,8,4) '\n",
    "    'ORDER BY movieCount DESC LIMIT 10')\n",
    "yearDF.show()"
   ]
  },
  {
   "cell_type": "code",
   "execution_count": 78,
   "metadata": {},
   "outputs": [
    {
     "data": {
      "image/png": "[encoded data removed]",
      "text/plain": [
       "<Figure size 432x288 with 1 Axes>"
      ]
     },
     "metadata": {},
     "output_type": "display_data"
    }
   ],
   "source": [
    "yearMovieCountTuple = yearDF.rdd.map(lambda p:(int(p.releaseYear),p.movieCount)).collect()\n",
    "yearList,movieCountList = zip(*yearMovieCountTuple)\n",
    "countArea = yearDF.rdd.map(lambda p: np.pi* (p.movieCount/15)**2).collect()\n",
    "plt.title('Top 10 movie release by year\\n')\n",
    "plt.xlabel(\"Year\")\n",
    "plt.ylabel(\"Number of movies released\")\n",
    "plt.ylim([0,max(movieCountList) + 20])\n",
    "colors = np.random.rand(10)\n",
    "plt.scatter(yearList,movieCountList,c=colors)\n",
    "plt.show(block=False)"
   ]
  },
  {
   "cell_type": "markdown",
   "metadata": {},
   "source": [
    "### Enhanced Scatter Plot"
   ]
  },
  {
   "cell_type": "code",
   "execution_count": 79,
   "metadata": {},
   "outputs": [
    {
     "data": {
      "image/png": "[encoded data removed]",
      "text/plain": [
       "<Figure size 432x288 with 1 Axes>"
      ]
     },
     "metadata": {},
     "output_type": "display_data"
    }
   ],
   "source": [
    " # Top 10 years where the most number of movies have been released\n",
    "plt.title('Top 10 movie release by year\\n')\n",
    "plt.xlabel(\"Year\")\n",
    "plt.ylabel(\"Number of movies released\")\n",
    "plt.ylim([0,max(movieCountList) + 100])\n",
    "colors = np.random.rand(10)\n",
    "plt.scatter(yearList, movieCountList,c=colors,s=countArea)\n",
    "plt.show(block=False)"
   ]
  },
  {
   "cell_type": "markdown",
   "metadata": {},
   "source": [
    "### Line Graph"
   ]
  },
  {
   "cell_type": "code",
   "execution_count": 80,
   "metadata": {},
   "outputs": [
    {
     "name": "stdout",
     "output_type": "stream",
     "text": [
      "+-----------------+----------------+\n",
      "|actionReleaseYear|actionMovieCount|\n",
      "+-----------------+----------------+\n",
      "|             1998|              12|\n",
      "|             1997|              46|\n",
      "|             1996|              44|\n",
      "|             1995|              40|\n",
      "|             1994|              30|\n",
      "|             1993|              20|\n",
      "|             1992|               8|\n",
      "|             1991|               2|\n",
      "|             1990|               7|\n",
      "|             1989|               6|\n",
      "+-----------------+----------------+\n",
      "\n"
     ]
    }
   ],
   "source": [
    "yearActionDF = spark.sql(\n",
    "    'SELECT substring(releaseDate,8,4) as actionReleaseYear,count(*) as actionMovieCount FROM movies WHERE action = 1 '\n",
    "    'GROUP BY substring(releaseDate,8,4) ORDER BY actionReleaseYear DESC LIMIT 10')\n",
    "yearActionDF.show()"
   ]
  },
  {
   "cell_type": "code",
   "execution_count": 81,
   "metadata": {},
   "outputs": [
    {
     "name": "stdout",
     "output_type": "stream",
     "text": [
      "+----------------+---------------+\n",
      "|dramaReleaseYear|dramaMovieCount|\n",
      "+----------------+---------------+\n",
      "|            1998|             33|\n",
      "|            1997|            113|\n",
      "|            1996|            170|\n",
      "|            1995|             89|\n",
      "|            1994|             97|\n",
      "|            1993|             64|\n",
      "|            1992|             14|\n",
      "|            1991|             11|\n",
      "|            1990|             12|\n",
      "|            1989|              8|\n",
      "+----------------+---------------+\n",
      "\n"
     ]
    }
   ],
   "source": [
    "yearActionDF.createOrReplaceTempView(\"action\")\n",
    "yearDramaDF = spark.sql(\n",
    "                'SELECT substring(releaseDate,8,4) as dramaReleaseYear,count(*) as dramaMovieCount FROM movies '\n",
    "                'WHERE drama = 1 GROUP BY substring(releaseDate,8,4) ORDER BY dramaReleaseYear DESC LIMIT 10')\n",
    "yearDramaDF.show()"
   ]
  },
  {
   "cell_type": "code",
   "execution_count": 82,
   "metadata": {},
   "outputs": [
    {
     "name": "stdout",
     "output_type": "stream",
     "text": [
      "+-----------+----------------+---------------+\n",
      "|releaseYear|actionMovieCount|dramaMovieCount|\n",
      "+-----------+----------------+---------------+\n",
      "|       1998|              12|             33|\n",
      "|       1997|              46|            113|\n",
      "|       1996|              44|            170|\n",
      "|       1995|              40|             89|\n",
      "|       1994|              30|             97|\n",
      "|       1993|              20|             64|\n",
      "|       1992|               8|             14|\n",
      "|       1991|               2|             11|\n",
      "|       1990|               7|             12|\n",
      "|       1989|               6|              8|\n",
      "+-----------+----------------+---------------+\n",
      "\n"
     ]
    }
   ],
   "source": [
    "yearDramaDF.createOrReplaceTempView(\"drama\")\n",
    "yearCombinedDF = spark.sql(\n",
    "    'SELECT a.actionReleaseYear as releaseYear,a.actionMovieCount, d.dramaMovieCount FROM action a, '\n",
    "    'drama d WHERE a.actionReleaseYear = d.dramaReleaseYear ORDER BY a.actionReleaseYear DESC LIMIT 10 ')\n",
    "yearCombinedDF.show()"
   ]
  },
  {
   "cell_type": "code",
   "execution_count": 83,
   "metadata": {},
   "outputs": [
    {
     "data": {
      "image/png": "[encoded data removed]",
      "text/plain": [
       "<Figure size 432x288 with 1 Axes>"
      ]
     },
     "metadata": {},
     "output_type": "display_data"
    }
   ],
   "source": [
    "yearMovieCountTuple = yearCombinedDF.rdd.map(lambda p:(p.releaseYear,p.actionMovieCount,p.dramaMovieCount)).collect()\n",
    "yearList,actionMovieCountList,dramaMovieCountList = zip(*yearMovieCountTuple)\n",
    "plt.title(\"Movie release by year\\n\")\n",
    "plt.xlabel(\"Year\")\n",
    "plt.ylabel(\"Movie count\")\n",
    "line_action, = plt.plot(yearList,actionMovieCountList)\n",
    "line_drama, = plt.plot(yearList,dramaMovieCountList)\n",
    "plt.legend([line_action, line_drama], ['Action Movies', 'Drama Movies'],loc='upper left')\n",
    "#plt.gca().get_xaxis().get_major_formatter().set_useOffset(False)\n",
    "plt.show(block=False)"
   ]
  },
  {
   "cell_type": "markdown",
   "metadata": {},
   "source": [
    "### Why Spark for machine learning?"
   ]
  },
  {
   "cell_type": "code",
   "execution_count": 84,
   "metadata": {},
   "outputs": [
    {
     "name": "stdout",
     "output_type": "stream",
     "text": [
      "PythonRDD[566] at RDD at PythonRDD.scala:52\n",
      "+-----+--------------------+\n",
      "|label|            features|\n",
      "+-----+--------------------+\n",
      "|  5.0|[7.4,0.7,0.0,1.9,...|\n",
      "|  5.0|[7.4,0.7,0.0,1.9,...|\n",
      "|  5.0|[7.8,0.76,0.04,2....|\n",
      "|  6.0|[11.2,0.28,0.56,1...|\n",
      "|  7.0|[7.3,0.65,0.0,1.2...|\n",
      "|  7.0|[7.8,0.58,0.02,2....|\n",
      "|  5.0|[8.1,0.56,0.28,1....|\n",
      "|  6.0|[8.9,0.22,0.48,1....|\n",
      "|  5.0|[7.6,0.39,0.31,2....|\n",
      "|  5.0|[7.6,0.41,0.24,1....|\n",
      "|  6.0|[7.8,0.645,0.0,2....|\n",
      "|  6.0|[6.9,0.685,0.0,2....|\n",
      "|  5.0|[7.3,0.45,0.36,5....|\n",
      "|  5.0|[7.3,0.45,0.36,5....|\n",
      "|  4.0|[4.6,0.52,0.15,2....|\n",
      "|  6.0|[6.6,0.52,0.04,2....|\n",
      "|  5.0|[7.8,0.59,0.18,2....|\n",
      "|  6.0|[7.3,0.39,0.31,2....|\n",
      "|  5.0|[7.0,0.735,0.05,2...|\n",
      "|  5.0|[7.2,0.725,0.05,4...|\n",
      "+-----+--------------------+\n",
      "only showing top 20 rows\n",
      "\n"
     ]
    }
   ],
   "source": [
    "from pyspark.ml.linalg import Vectors\n",
    "from pyspark.ml.regression import LinearRegression\n",
    "from pyspark.ml.param import Param, Params\n",
    "from pyspark.sql import Row\n",
    "# TODO - Change this directory to the right location where the data is stored\n",
    "dataDir = \"/home/thiamhuat/data/winequality/\"\n",
    "# Create the the RDD by reading the wine data from the disk\n",
    "\n",
    "#lines = sc.textFile(dataDir + \"winequality-red.csv\")\n",
    "\n",
    "lines = sc.textFile(dataDir + \"winequality-red.csv\")\n",
    "header = lines.first() \n",
    "header = sc.parallelize([header])\n",
    "lines = lines.subtract(header)\n",
    "\n",
    "splitLines = lines.map(lambda l:l.split(\",\"))\n",
    "print(splitLines)\n",
    "# Vector is a data type with 0 based indices and double-typed values. In that there are two types namely dense and sparse.\n",
    "# A dense vector is backed by a double array representing its entry values\n",
    "# A sparse vector is backed by two parallel arrays: indices and values\n",
    "\n",
    "wineDataRDD = splitLines.map(lambda p: (float(p[11]), Vectors.dense([float(p[0]), float(p[1]), float(p[2]), float(p[3]),\n",
    "                                                                     float(p[4]), float(p[5]), float(p[6]), float(p[7]), \n",
    "                                                                     float(p[8]), float(p[9]), float(p[10])])))\n",
    "\n",
    "#usersRDD = splitLines.map(lambda p: Row(id=p[0],age=int(p[1]), gender=p[2], occupation=p[3],zipcode=p[4]))\n",
    "\n",
    "# Create the data frame containing the training data having two columns. \n",
    "# 1) The actula output or label of the data \n",
    "# 2) The vector containing the features\n",
    "trainingDF = spark.createDataFrame(wineDataRDD, ['label','features'])\n",
    "trainingDF.show()"
   ]
  },
  {
   "cell_type": "code",
   "execution_count": 85,
   "metadata": {},
   "outputs": [
    {
     "name": "stdout",
     "output_type": "stream",
     "text": [
      "+-----+--------------------+\n",
      "|label|            features|\n",
      "+-----+--------------------+\n",
      "|  5.0|[7.4,0.7,0.0,1.9,...|\n",
      "|  5.0|[7.8,0.88,0.0,2.6...|\n",
      "|  7.0|[7.3,0.65,0.0,1.2...|\n",
      "+-----+--------------------+\n",
      "\n"
     ]
    }
   ],
   "source": [
    "# Create the object of the algorithm which is the Linear Regression with the parameters\n",
    "# Linear regression parameter to make lr.fit() use at most 10 iterations\n",
    "lr = LinearRegression(maxIter=10)\n",
    "# Create a trained model by fitting the parameters using the training data\n",
    "model = lr.fit(trainingDF)\n",
    "# Once the model is prepared, to test the model, prepare the test data containing the labels and feature vectors\n",
    "testDF = spark.createDataFrame([(5.0, Vectors.dense([7.4, 0.7, 0.0, 1.9, 0.076, 25.0, 67.0,\n",
    "                                                     0.9968, 3.2, 0.68,9.8])),(5.0,Vectors.dense([7.8,\n",
    "                                                     0.88, 0.0, 2.6, 0.098, 11.0, 34.0, 0.9978, 3.51, 0.56,\n",
    "                                                     9.4])),(7.0, Vectors.dense([7.3, 0.65, 0.0, 1.2,\n",
    "                                                     0.065, 15.0, 18.0, 0.9968, 3.36, 0.57, 9.5]))],\n",
    "                                                     [\"label\", \"features\"])\n",
    "testDF.createOrReplaceTempView(\"test\")\n",
    "testDF.show()"
   ]
  },
  {
   "cell_type": "code",
   "execution_count": 86,
   "metadata": {},
   "outputs": [
    {
     "name": "stdout",
     "output_type": "stream",
     "text": [
      "+--------------------+-----+-----------------+\n",
      "|            features|label|       prediction|\n",
      "+--------------------+-----+-----------------+\n",
      "|[7.4,0.7,0.0,1.9,...|  5.0|5.352730835918894|\n",
      "|[7.8,0.88,0.0,2.6...|  5.0|4.817999362001412|\n",
      "|[7.3,0.65,0.0,1.2...|  7.0| 5.28010635566897|\n",
      "+--------------------+-----+-----------------+\n",
      "\n"
     ]
    }
   ],
   "source": [
    "# Do the transformation of the test data using the model and predict the output values or lables.\n",
    "# This is to compare the predicted value and the actual label value\n",
    "testTransform = model.transform(testDF)\n",
    "tested = testTransform.select(\"features\",\"label\", \"prediction\")\n",
    "tested.show()"
   ]
  },
  {
   "cell_type": "code",
   "execution_count": 87,
   "metadata": {},
   "outputs": [
    {
     "name": "stdout",
     "output_type": "stream",
     "text": [
      "+--------------------+\n",
      "|            features|\n",
      "+--------------------+\n",
      "|[7.4,0.7,0.0,1.9,...|\n",
      "|[7.8,0.88,0.0,2.6...|\n",
      "|[7.3,0.65,0.0,1.2...|\n",
      "+--------------------+\n",
      "\n"
     ]
    }
   ],
   "source": [
    "# Prepare a dataset without the output/lables to predict the output using the trained model\n",
    "predictDF = spark.sql(\"SELECT features FROM test\")\n",
    "predictDF.show()"
   ]
  },
  {
   "cell_type": "code",
   "execution_count": 88,
   "metadata": {},
   "outputs": [
    {
     "name": "stdout",
     "output_type": "stream",
     "text": [
      "+--------------------+-----------------+\n",
      "|            features|       prediction|\n",
      "+--------------------+-----------------+\n",
      "|[7.4,0.7,0.0,1.9,...|5.352730835918894|\n",
      "|[7.8,0.88,0.0,2.6...|4.817999362001412|\n",
      "|[7.3,0.65,0.0,1.2...| 5.28010635566897|\n",
      "+--------------------+-----------------+\n",
      "\n"
     ]
    }
   ],
   "source": [
    "# Do the transformation with the predict dataset and display the predictions\n",
    "predictTransform = model.transform(predictDF)\n",
    "predicted = predictTransform.select(\"features\", \"prediction\")\n",
    "predicted.show()"
   ]
  },
  {
   "cell_type": "markdown",
   "metadata": {},
   "source": [
    "### Wine Classification"
   ]
  },
  {
   "cell_type": "code",
   "execution_count": 89,
   "metadata": {},
   "outputs": [
    {
     "name": "stdout",
     "output_type": "stream",
     "text": [
      "+-----+--------------------+\n",
      "|label|            features|\n",
      "+-----+--------------------+\n",
      "|  0.0|[8.1,0.27,0.41,1....|\n",
      "|  0.0|[8.6,0.23,0.4,4.2...|\n",
      "|  0.0|[7.9,0.18,0.37,1....|\n",
      "|  0.0|[7.0,0.25,0.32,9....|\n",
      "|  1.0|[7.2,0.32,0.36,2....|\n",
      "|  0.0|[5.8,0.27,0.2,14....|\n",
      "|  0.0|[6.5,0.39,0.23,5....|\n",
      "|  0.0|[7.0,0.33,0.32,1....|\n",
      "|  0.0|[6.7,0.24,0.39,2....|\n",
      "|  0.0|[6.6,0.24,0.27,1....|\n",
      "|  0.0|[6.7,0.23,0.26,1....|\n",
      "|  0.0|[7.2,0.21,0.34,11...|\n",
      "|  0.0|[6.0,0.19,0.26,12...|\n",
      "|  0.0|[6.0,0.19,0.26,12...|\n",
      "|  0.0|[7.0,0.47,0.07,1....|\n",
      "|  0.0|[7.2,0.24,0.27,1....|\n",
      "|  1.0|[6.7,0.23,0.31,2....|\n",
      "|  1.0|[6.7,0.23,0.31,2....|\n",
      "|  0.0|[8.6,0.23,0.46,1....|\n",
      "|  1.0|[7.0,0.32,0.34,1....|\n",
      "+-----+--------------------+\n",
      "only showing top 20 rows\n",
      "\n"
     ]
    }
   ],
   "source": [
    "from pyspark.ml.linalg import Vectors\n",
    "from pyspark.ml.classification import LogisticRegression\n",
    "from pyspark.ml.param import Param,Params\n",
    "from pyspark.sql import Row\n",
    "# TODO - Change this directory to the right location where the data is stored\n",
    "dataDir = \"/home/thiamhuat/data/winequality/\"\n",
    "# Create the the RDD by reading the wine data from the disk\n",
    "lines = sc.textFile(dataDir + \"winequality-white.csv\")\n",
    "\n",
    "header = lines.first() \n",
    "header = sc.parallelize([header])\n",
    "lines = lines.subtract(header)\n",
    "\n",
    "splitLines = lines.map(lambda l:l.split(\";\"))\n",
    "wineDataRDD = splitLines.map(lambda p:(float(0) if (float(p[11]) < 7) else float(1),\n",
    "                           Vectors.dense([float(p[0]), float(p[1]), float(p[2]),\n",
    "                             float(p[3]), float(p[4]), float(p[5]), float(p[6]),\n",
    "                             float(p[7]), float(p[8]), float(p[9]), float(p[10])])))\n",
    "# Create the data frame containing the training data having two columns. \n",
    "# 1) The actula output or label of the data \n",
    "# 2) The vector containing the features\n",
    "trainingDF = spark.createDataFrame(wineDataRDD, ['label','features'])\n",
    "trainingDF.show()"
   ]
  },
  {
   "cell_type": "code",
   "execution_count": 90,
   "metadata": {},
   "outputs": [
    {
     "name": "stdout",
     "output_type": "stream",
     "text": [
      "+-----+--------------------+\n",
      "|label|            features|\n",
      "+-----+--------------------+\n",
      "|  1.0|[6.1,0.32,0.24,1....|\n",
      "|  0.0|[5.2,0.44,0.04,1....|\n",
      "|  0.0|[7.2,0.32,0.47,5....|\n",
      "|  0.0|[6.4,0.595,0.14,5...|\n",
      "+-----+--------------------+\n",
      "\n"
     ]
    }
   ],
   "source": [
    "# Create the object of the algorithm which is the Logistic Regression with the parameters\n",
    "# LogisticRegression parameter to make lr.fit() use at most 10 iterations and the regularization parameter.\n",
    "# When a higher degree polynomial used by the algorithm to fit a set of points in a linear regression model, \n",
    "# to prevent overfitting,regularization is used and this parameter is just for that\n",
    "lr = LogisticRegression(maxIter=10,regParam=0.01)\n",
    "# Create a trained model by fitting the parameters using the training data\n",
    "model = lr.fit(trainingDF)\n",
    "# Once the model is prepared, to test the model, prepare the test data containing the labels and feature vectors\n",
    "testDF = spark.createDataFrame([(1.0,Vectors.dense([6.1,0.32,0.24,1.5,0.036,43,140,0.9894,3.36,0.64,10.7])),\n",
    "                                (0.0,Vectors.dense([5.2,0.44,0.04,1.4,0.036,38,124,0.9898,3.29,0.42,12.4])),\n",
    "                                (0.0,Vectors.dense([7.2,0.32,0.47,5.1,0.044,19,65,0.9951,3.38,0.36,9])),\n",
    "                                (0.0,Vectors.dense([6.4,0.595,0.14,5.2,0.058,15,97,0.991,3.03,0.41,12.6]))], \n",
    "                                [\"label\", \"features\"])\n",
    "testDF.createOrReplaceTempView(\"test\")\n",
    "testDF.show()"
   ]
  },
  {
   "cell_type": "code",
   "execution_count": 91,
   "metadata": {},
   "outputs": [
    {
     "name": "stdout",
     "output_type": "stream",
     "text": [
      "+--------------------+-----+----------+\n",
      "|            features|label|prediction|\n",
      "+--------------------+-----+----------+\n",
      "|[6.1,0.32,0.24,1....|  1.0|       0.0|\n",
      "|[5.2,0.44,0.04,1....|  0.0|       0.0|\n",
      "|[7.2,0.32,0.47,5....|  0.0|       0.0|\n",
      "|[6.4,0.595,0.14,5...|  0.0|       0.0|\n",
      "+--------------------+-----+----------+\n",
      "\n"
     ]
    }
   ],
   "source": [
    "# Do the transformation of the test data using the model and predict the output values or lables. \n",
    "# This is to compare the predicted value and the actual label value\n",
    "testTransform = model.transform(testDF)\n",
    "tested = testTransform.select(\"features\",\"label\", \"prediction\")\n",
    "tested.show()"
   ]
  },
  {
   "cell_type": "code",
   "execution_count": 92,
   "metadata": {},
   "outputs": [
    {
     "name": "stdout",
     "output_type": "stream",
     "text": [
      "+--------------------+\n",
      "|            features|\n",
      "+--------------------+\n",
      "|[6.1,0.32,0.24,1....|\n",
      "|[5.2,0.44,0.04,1....|\n",
      "|[7.2,0.32,0.47,5....|\n",
      "|[6.4,0.595,0.14,5...|\n",
      "+--------------------+\n",
      "\n"
     ]
    }
   ],
   "source": [
    "# Prepare a dataset without the output/lables to predict the output using the trained model\n",
    "predictDF = spark.sql(\"SELECT features FROM test\")\n",
    "predictDF.show()"
   ]
  },
  {
   "cell_type": "code",
   "execution_count": 93,
   "metadata": {},
   "outputs": [
    {
     "name": "stdout",
     "output_type": "stream",
     "text": [
      "+--------------------+----------+\n",
      "|            features|prediction|\n",
      "+--------------------+----------+\n",
      "|[6.1,0.32,0.24,1....|       0.0|\n",
      "|[5.2,0.44,0.04,1....|       0.0|\n",
      "|[7.2,0.32,0.47,5....|       0.0|\n",
      "|[6.4,0.595,0.14,5...|       0.0|\n",
      "+--------------------+----------+\n",
      "\n"
     ]
    }
   ],
   "source": [
    "# Do the transformation with the predict dataset and display the predictions\n",
    "predictTransform = model.transform(predictDF)\n",
    "predicted = testTransform.select(\"features\", \"prediction\")\n",
    "predicted.show()"
   ]
  },
  {
   "cell_type": "markdown",
   "metadata": {},
   "source": [
    "### Spam filtering"
   ]
  },
  {
   "cell_type": "code",
   "execution_count": 94,
   "metadata": {},
   "outputs": [
    {
     "name": "stdout",
     "output_type": "stream",
     "text": [
      "+--------------------+--------------------+-----+\n",
      "|               email|             message|label|\n",
      "+--------------------+--------------------+-----+\n",
      "|     you@example.com|   hope you are well|  0.0|\n",
      "|     raj@example.com|nice to hear from...|  0.0|\n",
      "|  thomas@example.com|      happy holidays|  0.0|\n",
      "|    mark@example.com|    see you tomorrow|  0.0|\n",
      "|     xyz@example.com|          save money|  1.0|\n",
      "|   top10@example.com|   low interest rate|  1.0|\n",
      "|marketing@example...|          cheap loan|  1.0|\n",
      "+--------------------+--------------------+-----+\n",
      "\n"
     ]
    }
   ],
   "source": [
    "from pyspark.ml import Pipeline\n",
    "from pyspark.ml.classification import LogisticRegression\n",
    "from pyspark.ml.feature import HashingTF, Tokenizer\n",
    "from pyspark.sql import Row\n",
    "# Prepare training documents from a list of messages from emails used to filter them as spam or not spam\n",
    "# If the original message is a spam then the label is 1 and if the message is genuine then the label is 0\n",
    "LabeledDocument = Row(\"email\",\"message\", \"label\")\n",
    "training = spark.createDataFrame([(\"you@example.com\", \"hope you are well\", 0.0),\n",
    "                                  (\"raj@example.com\", \"nice to hear from you\", 0.0),\n",
    "                                  (\"thomas@example.com\", \"happy holidays\",0.0),\n",
    "                                  (\"mark@example.com\", \"see you tomorrow\", 0.0),\n",
    "                                  (\"xyz@example.com\", \"save money\", 1.0),\n",
    "                                  (\"top10@example.com\", \"low interest rate\", 1.0),\n",
    "                                  (\"marketing@example.com\", \"cheap loan\", 1.0)],\n",
    "                                 [\"email\", \"message\", \"label\"])\n",
    "training.show()"
   ]
  },
  {
   "cell_type": "code",
   "execution_count": 95,
   "metadata": {},
   "outputs": [
    {
     "name": "stdout",
     "output_type": "stream",
     "text": [
      "+-----------------+---------------+\n",
      "|            email|        message|\n",
      "+-----------------+---------------+\n",
      "|  you@example.com|    how are you|\n",
      "| jain@example.com|hope doing well|\n",
      "|caren@example.com|want some money|\n",
      "| zhou@example.com|    secure loan|\n",
      "|  ted@example.com|      need loan|\n",
      "+-----------------+---------------+\n",
      "\n"
     ]
    }
   ],
   "source": [
    "# Configure an Spark machine learning pipeline, consisting of three stages: tokenizer,hashingTF, and lr.\n",
    "tokenizer = Tokenizer(inputCol=\"message\",outputCol=\"words\")\n",
    "hashingTF = HashingTF(inputCol=\"words\",outputCol=\"features\")\n",
    "# LogisticRegression parameter to make lr.fit() use at most 10 iterations and the regularization parameter.\n",
    "# When a higher degree polynomial used by the algorithm to fit a set of points in a linear regression model, \n",
    "# to prevent overfitting, regularization is used and this parameter is just for that\n",
    "lr = LogisticRegression(maxIter=10,regParam=0.01)\n",
    "pipeline = Pipeline(stages=[tokenizer,hashingTF, lr])\n",
    "# Fit the pipeline to train the model to study the messages\n",
    "model = pipeline.fit(training)\n",
    "# Prepare messages for prediction, which are not categorized and leaving upto the algorithm to predict\n",
    "test = spark.createDataFrame([(\"you@example.com\", \"how are you\"),\n",
    "                              (\"jain@example.com\", \"hope doing well\"),\n",
    "                              (\"caren@example.com\", \"want some money\"),\n",
    "                              (\"zhou@example.com\", \"secure loan\"),\n",
    "                              (\"ted@example.com\",\"need loan\")], [\"email\",\"message\"])\n",
    "test.show()"
   ]
  },
  {
   "cell_type": "code",
   "execution_count": 96,
   "metadata": {},
   "outputs": [
    {
     "name": "stdout",
     "output_type": "stream",
     "text": [
      "+-----------------+---------------+----------+\n",
      "|            email|        message|prediction|\n",
      "+-----------------+---------------+----------+\n",
      "|  you@example.com|    how are you|       0.0|\n",
      "| jain@example.com|hope doing well|       0.0|\n",
      "|caren@example.com|want some money|       1.0|\n",
      "| zhou@example.com|    secure loan|       1.0|\n",
      "|  ted@example.com|      need loan|       1.0|\n",
      "+-----------------+---------------+----------+\n",
      "\n"
     ]
    }
   ],
   "source": [
    "# Make predictions on the new messages\n",
    "prediction = model.transform(test).select(\"email\", \"message\",\"prediction\")\n",
    "prediction.show()"
   ]
  },
  {
   "cell_type": "code",
   "execution_count": 97,
   "metadata": {},
   "outputs": [
    {
     "name": "stdout",
     "output_type": "stream",
     "text": [
      "+--------------------+--------------------+\n",
      "|             message|               words|\n",
      "+--------------------+--------------------+\n",
      "|   hope you are well|[hope, you, are, ...|\n",
      "|nice to hear from...|[nice, to, hear, ...|\n",
      "|      happy holidays|   [happy, holidays]|\n",
      "|    see you tomorrow|[see, you, tomorrow]|\n",
      "|          save money|       [save, money]|\n",
      "|   low interest rate|[low, interest, r...|\n",
      "|          cheap loan|       [cheap, loan]|\n",
      "+--------------------+--------------------+\n",
      "\n"
     ]
    }
   ],
   "source": [
    "wordsDF = tokenizer.transform(training)\n",
    "wordsDF.createOrReplaceTempView(\"word\")\n",
    "selectedFieldstDF = spark.sql(\"SELECT message, words FROM word\")\n",
    "selectedFieldstDF.show()"
   ]
  },
  {
   "cell_type": "code",
   "execution_count": 98,
   "metadata": {},
   "outputs": [
    {
     "name": "stdout",
     "output_type": "stream",
     "text": [
      "+--------------------+--------------------+\n",
      "|               words|            features|\n",
      "+--------------------+--------------------+\n",
      "|[hope, you, are, ...|(262144,[128160,1...|\n",
      "|[nice, to, hear, ...|(262144,[22346,10...|\n",
      "|   [happy, holidays]|(262144,[86293,23...|\n",
      "|[see, you, tomorrow]|(262144,[29129,21...|\n",
      "|       [save, money]|(262144,[199496,2...|\n",
      "|[low, interest, r...|(262144,[68685,13...|\n",
      "|       [cheap, loan]|(262144,[12946,16...|\n",
      "+--------------------+--------------------+\n",
      "\n"
     ]
    }
   ],
   "source": [
    "featurizedDF = hashingTF.transform(wordsDF)\n",
    "featurizedDF.createOrReplaceTempView(\"featurized\")\n",
    "selectedFeaturizedFieldstDF = spark.sql(\"SELECT words, features FROM featurized\")\n",
    "selectedFeaturizedFieldstDF.show()"
   ]
  },
  {
   "cell_type": "markdown",
   "metadata": {},
   "source": [
    "### Finding synonyms"
   ]
  },
  {
   "cell_type": "code",
   "execution_count": null,
   "metadata": {},
   "outputs": [],
   "source": [
    "from pyspark.ml.feature import Word2Vec\n",
    "from pyspark.ml.feature import RegexTokenizer\n",
    "from pyspark.sql import Row\n",
    "# TODO - Change this directory to the right location where the data is stored\n",
    "dataDir = \"/home/thiamhuat/data/20_newsgroups/*\"\n",
    "# Read the entire text into a DataFrame\n",
    "textRDD = sc.wholeTextFiles(dataDir).map(lambda recs: Row(sentence=recs[1]))\n",
    "textDF = spark.createDataFrame(textRDD)\n",
    "# Tokenize the sentences to words\n",
    "regexTokenizer = RegexTokenizer(inputCol=\"sentence\", outputCol=\"words\",gaps=False, pattern=\"\\\\w+\")\n",
    "tokenizedDF = regexTokenizer.transform(textDF)\n",
    "# Prepare the Estimator It sets the vector size, and the parameter minCount sets the minimum number of times a\n",
    "# token must appear to be included in the word2vec model's vocabulary.\n",
    "word2Vec = Word2Vec(vectorSize=3,minCount=0, inputCol=\"words\", outputCol=\"result\")\n",
    "# Train the model\n",
    "model = word2Vec.fit(tokenizedDF)\n",
    "# Find 10 synonyms of a given word\n",
    "synonyms1 = model.findSynonyms(\"gun\",10)\n",
    "synonyms1.show()"
   ]
  },
  {
   "cell_type": "code",
   "execution_count": null,
   "metadata": {},
   "outputs": [],
   "source": [
    "# Find 10 synonyms of a different word\n",
    "synonyms2 = model.findSynonyms(\"crime\",10)\n",
    "synonyms2.show()"
   ]
  },
  {
   "cell_type": "code",
   "execution_count": null,
   "metadata": {},
   "outputs": [],
   "source": []
  }
 ],
 "metadata": {
  "kernelspec": {
   "display_name": "Python 3",
   "language": "python",
   "name": "python3"
  },
  "language_info": {
   "codemirror_mode": {
    "name": "ipython",
    "version": 3
   },
   "file_extension": ".py",
   "mimetype": "text/x-python",
   "name": "python",
   "nbconvert_exporter": "python",
   "pygments_lexer": "ipython3",
   "version": "3.6.5"
  }
 },
 "nbformat": 4,
 "nbformat_minor": 2
}
